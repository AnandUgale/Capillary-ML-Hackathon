{
  "nbformat": 4,
  "nbformat_minor": 0,
  "metadata": {
    "colab": {
      "name": "CNN model Bulding.ipynb",
      "provenance": [],
      "collapsed_sections": [],
      "mount_file_id": "1HX_KeFqCcztjULVvEzadxMk8gdfL7dbx",
      "authorship_tag": "ABX9TyPEH4ugicvXwhD4Y/098Rnh",
      "include_colab_link": true
    },
    "kernelspec": {
      "name": "python3",
      "display_name": "Python 3"
    },
    "accelerator": "GPU"
  },
  "cells": [
    {
      "cell_type": "markdown",
      "metadata": {
        "id": "view-in-github",
        "colab_type": "text"
      },
      "source": [
        "<a href=\"https://colab.research.google.com/github/AnandUgale/Capillary-ML-Hackathon/blob/master/CNN_model_Bulding.ipynb\" target=\"_parent\"><img src=\"https://colab.research.google.com/assets/colab-badge.svg\" alt=\"Open In Colab\"/></a>"
      ]
    },
    {
      "cell_type": "code",
      "metadata": {
        "id": "744A3Wbvt3B0",
        "colab_type": "code",
        "outputId": "9dbe0955-efbe-4727-b954-396c873682f3",
        "colab": {
          "base_uri": "https://localhost:8080/",
          "height": 625
        }
      },
      "source": [
        "# install tensorflow\n",
        "!pip install tensorflow==2.0"
      ],
      "execution_count": 1,
      "outputs": [
        {
          "output_type": "stream",
          "text": [
            "Requirement already satisfied: tensorflow==2.0 in /usr/local/lib/python3.6/dist-packages (2.0.0)\n",
            "Requirement already satisfied: grpcio>=1.8.6 in /usr/local/lib/python3.6/dist-packages (from tensorflow==2.0) (1.27.1)\n",
            "Requirement already satisfied: numpy<2.0,>=1.16.0 in /usr/local/lib/python3.6/dist-packages (from tensorflow==2.0) (1.17.5)\n",
            "Requirement already satisfied: wrapt>=1.11.1 in /usr/local/lib/python3.6/dist-packages (from tensorflow==2.0) (1.11.2)\n",
            "Requirement already satisfied: keras-preprocessing>=1.0.5 in /usr/local/lib/python3.6/dist-packages (from tensorflow==2.0) (1.1.0)\n",
            "Requirement already satisfied: tensorboard<2.1.0,>=2.0.0 in /usr/local/lib/python3.6/dist-packages (from tensorflow==2.0) (2.0.2)\n",
            "Requirement already satisfied: tensorflow-estimator<2.1.0,>=2.0.0 in /usr/local/lib/python3.6/dist-packages (from tensorflow==2.0) (2.0.1)\n",
            "Requirement already satisfied: termcolor>=1.1.0 in /usr/local/lib/python3.6/dist-packages (from tensorflow==2.0) (1.1.0)\n",
            "Requirement already satisfied: google-pasta>=0.1.6 in /usr/local/lib/python3.6/dist-packages (from tensorflow==2.0) (0.1.8)\n",
            "Requirement already satisfied: protobuf>=3.6.1 in /usr/local/lib/python3.6/dist-packages (from tensorflow==2.0) (3.10.0)\n",
            "Requirement already satisfied: keras-applications>=1.0.8 in /usr/local/lib/python3.6/dist-packages (from tensorflow==2.0) (1.0.8)\n",
            "Requirement already satisfied: opt-einsum>=2.3.2 in /usr/local/lib/python3.6/dist-packages (from tensorflow==2.0) (3.1.0)\n",
            "Requirement already satisfied: wheel>=0.26 in /usr/local/lib/python3.6/dist-packages (from tensorflow==2.0) (0.34.2)\n",
            "Requirement already satisfied: six>=1.10.0 in /usr/local/lib/python3.6/dist-packages (from tensorflow==2.0) (1.12.0)\n",
            "Requirement already satisfied: gast==0.2.2 in /usr/local/lib/python3.6/dist-packages (from tensorflow==2.0) (0.2.2)\n",
            "Requirement already satisfied: astor>=0.6.0 in /usr/local/lib/python3.6/dist-packages (from tensorflow==2.0) (0.8.1)\n",
            "Requirement already satisfied: absl-py>=0.7.0 in /usr/local/lib/python3.6/dist-packages (from tensorflow==2.0) (0.9.0)\n",
            "Requirement already satisfied: google-auth-oauthlib<0.5,>=0.4.1 in /usr/local/lib/python3.6/dist-packages (from tensorboard<2.1.0,>=2.0.0->tensorflow==2.0) (0.4.1)\n",
            "Requirement already satisfied: setuptools>=41.0.0 in /usr/local/lib/python3.6/dist-packages (from tensorboard<2.1.0,>=2.0.0->tensorflow==2.0) (45.1.0)\n",
            "Requirement already satisfied: werkzeug>=0.11.15 in /usr/local/lib/python3.6/dist-packages (from tensorboard<2.1.0,>=2.0.0->tensorflow==2.0) (1.0.0)\n",
            "Requirement already satisfied: markdown>=2.6.8 in /usr/local/lib/python3.6/dist-packages (from tensorboard<2.1.0,>=2.0.0->tensorflow==2.0) (3.2.1)\n",
            "Requirement already satisfied: google-auth<2,>=1.6.3 in /usr/local/lib/python3.6/dist-packages (from tensorboard<2.1.0,>=2.0.0->tensorflow==2.0) (1.7.2)\n",
            "Requirement already satisfied: requests<3,>=2.21.0 in /usr/local/lib/python3.6/dist-packages (from tensorboard<2.1.0,>=2.0.0->tensorflow==2.0) (2.21.0)\n",
            "Requirement already satisfied: h5py in /usr/local/lib/python3.6/dist-packages (from keras-applications>=1.0.8->tensorflow==2.0) (2.8.0)\n",
            "Requirement already satisfied: requests-oauthlib>=0.7.0 in /usr/local/lib/python3.6/dist-packages (from google-auth-oauthlib<0.5,>=0.4.1->tensorboard<2.1.0,>=2.0.0->tensorflow==2.0) (1.3.0)\n",
            "Requirement already satisfied: cachetools<3.2,>=2.0.0 in /usr/local/lib/python3.6/dist-packages (from google-auth<2,>=1.6.3->tensorboard<2.1.0,>=2.0.0->tensorflow==2.0) (3.1.1)\n",
            "Requirement already satisfied: pyasn1-modules>=0.2.1 in /usr/local/lib/python3.6/dist-packages (from google-auth<2,>=1.6.3->tensorboard<2.1.0,>=2.0.0->tensorflow==2.0) (0.2.8)\n",
            "Requirement already satisfied: rsa<4.1,>=3.1.4 in /usr/local/lib/python3.6/dist-packages (from google-auth<2,>=1.6.3->tensorboard<2.1.0,>=2.0.0->tensorflow==2.0) (4.0)\n",
            "Requirement already satisfied: idna<2.9,>=2.5 in /usr/local/lib/python3.6/dist-packages (from requests<3,>=2.21.0->tensorboard<2.1.0,>=2.0.0->tensorflow==2.0) (2.8)\n",
            "Requirement already satisfied: chardet<3.1.0,>=3.0.2 in /usr/local/lib/python3.6/dist-packages (from requests<3,>=2.21.0->tensorboard<2.1.0,>=2.0.0->tensorflow==2.0) (3.0.4)\n",
            "Requirement already satisfied: certifi>=2017.4.17 in /usr/local/lib/python3.6/dist-packages (from requests<3,>=2.21.0->tensorboard<2.1.0,>=2.0.0->tensorflow==2.0) (2019.11.28)\n",
            "Requirement already satisfied: urllib3<1.25,>=1.21.1 in /usr/local/lib/python3.6/dist-packages (from requests<3,>=2.21.0->tensorboard<2.1.0,>=2.0.0->tensorflow==2.0) (1.24.3)\n",
            "Requirement already satisfied: oauthlib>=3.0.0 in /usr/local/lib/python3.6/dist-packages (from requests-oauthlib>=0.7.0->google-auth-oauthlib<0.5,>=0.4.1->tensorboard<2.1.0,>=2.0.0->tensorflow==2.0) (3.1.0)\n",
            "Requirement already satisfied: pyasn1<0.5.0,>=0.4.6 in /usr/local/lib/python3.6/dist-packages (from pyasn1-modules>=0.2.1->google-auth<2,>=1.6.3->tensorboard<2.1.0,>=2.0.0->tensorflow==2.0) (0.4.8)\n"
          ],
          "name": "stdout"
        }
      ]
    },
    {
      "cell_type": "code",
      "metadata": {
        "id": "lNMfFnLvvbg4",
        "colab_type": "code",
        "outputId": "191b4255-340f-4ef4-ccdd-48b22cbfccec",
        "colab": {
          "base_uri": "https://localhost:8080/",
          "height": 34
        }
      },
      "source": [
        "# check tensorflow version\n",
        "import tensorflow as tf\n",
        "print(tf.__version__)"
      ],
      "execution_count": 2,
      "outputs": [
        {
          "output_type": "stream",
          "text": [
            "2.0.0\n"
          ],
          "name": "stdout"
        }
      ]
    },
    {
      "cell_type": "code",
      "metadata": {
        "id": "bEiE9s8uvLIY",
        "colab_type": "code",
        "colab": {}
      },
      "source": [
        "# copy File from Google drive\n",
        "import shutil"
      ],
      "execution_count": 0,
      "outputs": []
    },
    {
      "cell_type": "code",
      "metadata": {
        "id": "UlkPY7xSuVZ5",
        "colab_type": "code",
        "outputId": "dc7c8bea-9716-4e35-fa04-6e168dd282ba",
        "colab": {
          "base_uri": "https://localhost:8080/",
          "height": 34
        }
      },
      "source": [
        "shutil.copy('/content/drive/My Drive/DataFrame_Datasets.pickle', '/content/')"
      ],
      "execution_count": 4,
      "outputs": [
        {
          "output_type": "execute_result",
          "data": {
            "text/plain": [
              "'/content/DataFrame_Datasets.pickle'"
            ]
          },
          "metadata": {
            "tags": []
          },
          "execution_count": 4
        }
      ]
    },
    {
      "cell_type": "code",
      "metadata": {
        "id": "zgZE-v9tufFT",
        "colab_type": "code",
        "colab": {}
      },
      "source": [
        "# Import Necessary Libraries\n",
        "from six.moves import cPickle as pickle\n",
        "import numpy as np\n",
        "import random \n",
        "import pandas as pd\n",
        "import matplotlib.pyplot as plt\n",
        "%matplotlib inline"
      ],
      "execution_count": 0,
      "outputs": []
    },
    {
      "cell_type": "code",
      "metadata": {
        "id": "2rBFcaxEuk2B",
        "colab_type": "code",
        "colab": {}
      },
      "source": [
        "# open Pickled dataset\n",
        "pfile = 'DataFrame_Datasets.pickle'\n",
        "with (open(pfile, \"rb\")) as openfile:\n",
        "    while True:\n",
        "        try:\n",
        "            temp = pickle.load(openfile)\n",
        "        except EOFError:\n",
        "            break"
      ],
      "execution_count": 0,
      "outputs": []
    },
    {
      "cell_type": "code",
      "metadata": {
        "id": "mfPsB8bjuty0",
        "colab_type": "code",
        "outputId": "82b27b0c-ed95-4159-a9ab-800c6c046a56",
        "colab": {
          "base_uri": "https://localhost:8080/",
          "height": 1000
        }
      },
      "source": [
        "temp"
      ],
      "execution_count": 7,
      "outputs": [
        {
          "output_type": "execute_result",
          "data": {
            "text/plain": [
              "{'test_datasets': array([[[ 0.046104 ,  0.0232164],\n",
              "         [-0.0371335,  0.0811545],\n",
              "         [-0.089496 ,  0.0953309],\n",
              "         ...,\n",
              "         [ 0.0012517,  0.0108891],\n",
              "         [-0.02712  , -0.0275309],\n",
              "         [-0.0098049, -0.0774564]],\n",
              " \n",
              "        [[ 0.0029206, -0.1095073],\n",
              "         [-0.0264942, -0.0786891],\n",
              "         [-0.0988837, -0.0084236],\n",
              "         ...,\n",
              "         [ 0.1174505,  0.11526  ],\n",
              "         [ 0.1101489,  0.1384764],\n",
              "         [ 0.1049335,  0.12204  ]],\n",
              " \n",
              "        [[ 0.1161988,  0.0501309],\n",
              "         [ 0.1187022, -0.0302018],\n",
              "         [ 0.0915822, -0.0491036],\n",
              "         ...,\n",
              "         [ 0.0300406,  0.0349273],\n",
              "         [ 0.0959631,  0.0351327],\n",
              "         [ 0.1128609,  0.0682109]],\n",
              " \n",
              "        ...,\n",
              " \n",
              "        [[-0.0032487, -0.1540909],\n",
              "         [-0.0085278,  0.0178745],\n",
              "         [ 0.       , -0.0577327],\n",
              "         ...,\n",
              "         [ 0.00934  ,  0.0735527],\n",
              "         [ 0.0048731,  0.0275309],\n",
              "         [ 0.2802006, -0.0408855]],\n",
              " \n",
              "        [[ 0.1011159,  0.0583491],\n",
              "         [-0.1628412, -0.0250655],\n",
              "         [ 0.0929941,  0.0817709],\n",
              "         ...,\n",
              "         [ 0.1356333, -0.0402691],\n",
              "         [-0.1051767,  0.23504  ],\n",
              "         [-0.073908 ,  0.0509527]],\n",
              " \n",
              "        [[ 0.1230446, -0.0020545],\n",
              "         [ 0.0353296,  0.0943036],\n",
              "         [-0.0450757, -0.1464891],\n",
              "         ...,\n",
              "         [-0.050761 , -0.1814164],\n",
              "         [-0.0300505, -0.1526527],\n",
              "         [-0.2485257,  0.1518309]]]),\n",
              " 'test_labels': array([0, 0, 0, 0, 0, 0, 0, 0, 0, 0, 0, 0, 0, 0, 0, 0, 0, 0, 0, 0, 0, 0,\n",
              "        0, 0, 0, 0, 0, 0, 0, 0, 0, 0, 0, 0, 0, 0, 0, 0, 0, 0, 0, 0, 0, 0,\n",
              "        0, 0, 0, 0, 0, 0, 0, 0, 0, 0, 0, 0, 0, 0, 0, 0, 0, 0, 0, 0, 0, 0,\n",
              "        0, 0, 0, 0, 0, 0, 0, 0, 0, 1, 1, 1, 1, 1, 1, 1, 1, 1, 1, 1, 1, 1,\n",
              "        1, 1, 1, 1, 1, 1, 1, 1, 1, 1, 1, 1, 1, 1, 1, 1, 1, 1, 1, 1, 1, 1,\n",
              "        1, 1, 1, 1, 1, 1, 1, 1, 1, 1, 1, 1, 1, 1, 1, 1, 1, 1, 1, 1, 1, 1,\n",
              "        1, 1, 1, 1, 1, 1, 1, 1, 1, 1, 1, 1, 1, 1, 1, 1, 1, 1, 2, 2, 2, 2,\n",
              "        2, 2, 2, 2, 2, 2, 2, 2, 2, 2, 2, 2, 2, 2, 2, 2, 2, 2, 2, 2, 2, 2,\n",
              "        2, 2, 2, 2, 2, 2, 2, 2, 2, 2, 2, 2, 2, 2, 2, 2, 2, 2, 2, 2, 2, 2,\n",
              "        2, 2, 2, 2, 2, 2, 2, 2, 2, 2, 2, 2, 2, 2, 2, 2, 2, 2, 2, 2, 2, 2,\n",
              "        2, 2, 2, 2, 2, 3, 3, 3, 3, 3, 3, 3, 3, 3, 3, 3, 3, 3, 3, 3, 3, 3,\n",
              "        3, 3, 3, 3, 3, 3, 3, 3, 3, 3, 3, 3, 3, 3, 3, 3, 3, 3, 3, 3, 3, 3,\n",
              "        3, 3, 3, 3, 3, 3, 3, 3, 3, 3, 3, 3, 3, 3, 3, 3, 3, 3, 3, 3, 3, 3,\n",
              "        3, 3, 3, 3, 3, 3, 3, 3, 3, 3, 3, 3, 3, 3, 4, 4, 4, 4, 4, 4, 4, 4,\n",
              "        4, 4, 4, 4, 4, 4, 4, 4, 4, 4, 4, 4, 4, 4, 4, 4, 4, 4, 4, 4, 4, 4,\n",
              "        4, 4, 4, 4, 4, 4, 4, 4, 4, 4, 4, 4, 4, 4, 4, 4, 4, 4, 4, 4, 4, 4,\n",
              "        4, 4, 4, 4, 4, 4, 4, 4, 4, 4, 4, 4, 4, 4, 4, 4, 4, 4, 4, 4, 4, 4,\n",
              "        4, 5, 5, 5, 5, 5, 5, 5, 5, 5, 5, 5, 5, 5, 5, 5, 5, 5, 5, 5, 5, 5,\n",
              "        5, 5, 5, 5, 5, 5, 5, 5, 5, 5, 5, 5, 5, 5, 5, 5, 5, 5, 5, 5, 5, 5,\n",
              "        5, 5, 5, 5, 5, 5, 5, 5, 5, 5, 5, 5, 5, 5, 5, 5, 5, 5, 5, 5, 5, 5,\n",
              "        5, 5, 5, 5, 5, 5, 5, 5, 5, 5, 6, 6, 6, 6, 6, 6, 6, 6, 6, 6, 6, 6,\n",
              "        6, 6, 6, 6, 6, 6, 6, 6, 6, 6, 6, 6, 6, 6, 6, 6, 6, 6, 6, 6, 6, 6,\n",
              "        6, 6, 6, 6, 6, 6, 6, 6, 6, 6, 6, 6, 6, 6, 6, 6, 6, 6, 6, 6, 6, 6,\n",
              "        6, 6, 6, 6, 6, 6, 6, 6, 6, 6, 6, 6, 6, 6, 6, 6, 6, 6, 6, 7, 7, 7,\n",
              "        7, 7, 7, 7, 7, 7, 7, 7, 7, 7, 7, 7, 7, 7, 7, 7, 7, 7, 7, 7, 7, 7,\n",
              "        7, 7, 7, 7, 7, 7, 7, 7, 7, 7, 7, 7, 7, 7, 7, 7, 7, 7, 7, 7, 7, 7,\n",
              "        7, 7, 7, 7, 7, 7, 7, 7, 7, 7, 7, 7, 7, 7, 7, 7, 7, 7, 7, 7, 7, 7,\n",
              "        7, 7, 7, 7, 7, 7, 8, 8, 8, 8, 8, 8, 8, 8, 8, 8, 8, 8, 8, 8, 8, 8,\n",
              "        8, 8, 8, 8, 8, 8, 8, 8, 8, 8, 8, 8, 8, 8, 8, 8, 8, 8, 8, 8, 8, 8,\n",
              "        8, 8, 8, 8, 8, 8, 8, 8, 8, 8, 8, 8, 8, 8, 8, 8, 8, 8, 8, 8, 8, 8,\n",
              "        8, 8, 8, 8, 8, 8, 8, 8, 8, 8, 8, 8, 8, 8, 8, 9, 9, 9, 9, 9, 9, 9,\n",
              "        9, 9, 9, 9, 9, 9, 9, 9, 9, 9, 9, 9, 9, 9, 9, 9, 9, 9, 9, 9, 9, 9,\n",
              "        9, 9, 9, 9, 9, 9, 9, 9, 9, 9, 9, 9, 9, 9, 9, 9, 9, 9, 9, 9, 9, 9,\n",
              "        9, 9, 9, 9, 9, 9, 9, 9, 9, 9, 9, 9, 9, 9, 9, 9, 9, 9, 9, 9, 9, 9,\n",
              "        9, 9], dtype=int32),\n",
              " 'train_datasets': array([[[-2.3156300e-02,  2.6709100e-02],\n",
              "         [-4.9233200e-02,  6.1430900e-02],\n",
              "         [-4.8398800e-02,  8.5674500e-02],\n",
              "         ...,\n",
              "         [-4.2557500e-02,  4.8692700e-02],\n",
              "         [-5.3196900e-02,  2.5476400e-02],\n",
              "         [-2.7954500e-02, -2.5887300e-02]],\n",
              " \n",
              "        [[ 8.5115100e-02,  1.5409090e-01],\n",
              "         [ 6.6339700e-02,  1.4957090e-01],\n",
              "         [ 6.3419100e-02,  1.4505090e-01],\n",
              "         ...,\n",
              "         [-9.2208000e-02,  9.0605500e-02],\n",
              "         [-9.8883700e-02,  8.5674500e-02],\n",
              "         [-4.2348900e-02,  3.6365500e-02]],\n",
              " \n",
              "        [[ 1.2308300e-02,  1.3149100e-02],\n",
              "         [ 2.7120000e-03,  3.9036400e-02],\n",
              "         [ 1.6689000e-03,  1.4381800e-02],\n",
              "         ...,\n",
              "         [ 3.2126800e-02,  9.5330900e-02],\n",
              "         [ 6.1124300e-02,  1.0026180e-01],\n",
              "         [ 1.0722830e-01,  8.0538200e-02]],\n",
              " \n",
              "        ...,\n",
              " \n",
              "        [[-1.1800912e+00,  8.9989100e-02],\n",
              "         [-1.7238428e+00,  1.1957450e-01],\n",
              "         [ 3.2730679e+00,  1.9436000e-01],\n",
              "         ...,\n",
              "         [-1.4537940e-01,  1.4073640e-01],\n",
              "         [-1.5553160e-01, -8.6496400e-02],\n",
              "         [ 1.1735940e-01,  2.1880910e-01]],\n",
              " \n",
              "        [[-6.8628800e-02, -2.4942180e-01],\n",
              "         [ 2.4568310e-01,  1.1710910e-01],\n",
              "         [ 2.3268830e-01, -9.8618200e-02],\n",
              "         ...,\n",
              "         [-2.0629260e-01,  4.5200000e-02],\n",
              "         [ 1.0395850e-01, -5.0151450e-01],\n",
              "         [ 3.2933720e-01,  6.1163820e-01]],\n",
              " \n",
              "        [[ 3.0456600e-02,  7.3963600e-02],\n",
              "         [ 2.9035280e-01,  1.6600730e-01],\n",
              "         [ 3.5410860e-01,  5.1363600e-02],\n",
              "         ...,\n",
              "         [ 1.2182600e-02,  1.1279450e-01],\n",
              "         [ 2.4324660e-01,  2.8229450e-01],\n",
              "         [ 2.5705360e-01,  9.4303600e-02]]]),\n",
              " 'train_labels': array([0, 0, 0, ..., 9, 9, 9], dtype=int32)}"
            ]
          },
          "metadata": {
            "tags": []
          },
          "execution_count": 7
        }
      ]
    },
    {
      "cell_type": "code",
      "metadata": {
        "id": "6Q9QTxNCuwBn",
        "colab_type": "code",
        "colab": {}
      },
      "source": [
        "# Saved Dataset into train and test DataFrame\n",
        "X_train = temp[\"train_datasets\"]\n",
        "y_train = temp[\"train_labels\"]\n",
        "X_test = temp[\"test_datasets\"]\n",
        "y_test = temp[\"test_labels\"]"
      ],
      "execution_count": 0,
      "outputs": []
    },
    {
      "cell_type": "code",
      "metadata": {
        "id": "CNiDAnvXu3OH",
        "colab_type": "code",
        "outputId": "3e9907bf-dd77-4c85-d0be-ce73406fe965",
        "colab": {
          "base_uri": "https://localhost:8080/",
          "height": 34
        }
      },
      "source": [
        "X_train.shape, y_train.shape, X_test.shape, y_test.shape"
      ],
      "execution_count": 9,
      "outputs": [
        {
          "output_type": "execute_result",
          "data": {
            "text/plain": [
              "((19800, 2048, 2), (19800,), (750, 2048, 2), (750,))"
            ]
          },
          "metadata": {
            "tags": []
          },
          "execution_count": 9
        }
      ]
    },
    {
      "cell_type": "code",
      "metadata": {
        "id": "Q-mho08vu47X",
        "colab_type": "code",
        "colab": {}
      },
      "source": [
        "# Shuffle Train and Test Dataset\n",
        "# define randomize function\n",
        "def randomize(dataset, labels):\n",
        "  permutation = np.random.permutation(labels.shape[0])\n",
        "  shuffled_dataset = dataset[permutation,:]\n",
        "  shuffled_labels = labels[permutation]\n",
        "  return shuffled_dataset, shuffled_labels"
      ],
      "execution_count": 0,
      "outputs": []
    },
    {
      "cell_type": "code",
      "metadata": {
        "id": "AxYOCjSDvCMJ",
        "colab_type": "code",
        "colab": {}
      },
      "source": [
        "# Shuffle Dataset\n",
        "X_train, y_train = randomize(X_train, y_train)\n",
        "X_test, y_test = randomize(X_test, y_test)"
      ],
      "execution_count": 0,
      "outputs": []
    },
    {
      "cell_type": "code",
      "metadata": {
        "id": "i0KKFZbMvEuq",
        "colab_type": "code",
        "outputId": "04451878-5fac-4ea1-b13c-510eb240340c",
        "colab": {
          "base_uri": "https://localhost:8080/",
          "height": 34
        }
      },
      "source": [
        "X_train.shape, y_train.shape, X_test.shape, y_test.shape"
      ],
      "execution_count": 12,
      "outputs": [
        {
          "output_type": "execute_result",
          "data": {
            "text/plain": [
              "((19800, 2048, 2), (19800,), (750, 2048, 2), (750,))"
            ]
          },
          "metadata": {
            "tags": []
          },
          "execution_count": 12
        }
      ]
    },
    {
      "cell_type": "code",
      "metadata": {
        "id": "jHkRx-4yvGgx",
        "colab_type": "code",
        "colab": {}
      },
      "source": [
        "# Import Packages to Build Model\n",
        "import tensorflow as tf\n",
        "from tensorflow import keras\n",
        "from tensorflow.keras import Sequential\n",
        "from tensorflow.keras.layers import Conv1D, MaxPooling1D, Flatten, Dense, Dropout\n",
        "from tensorflow.keras.callbacks import ModelCheckpoint"
      ],
      "execution_count": 0,
      "outputs": []
    },
    {
      "cell_type": "code",
      "metadata": {
        "id": "AN4m7nYXvq9S",
        "colab_type": "code",
        "colab": {}
      },
      "source": [
        "# One-hot encoding on Labels\n",
        "num_classes = 10\n",
        "y_train_ohe = keras.utils.to_categorical(y_train, num_classes)\n",
        "y_test_ohe = keras.utils.to_categorical(y_test, num_classes)"
      ],
      "execution_count": 0,
      "outputs": []
    },
    {
      "cell_type": "code",
      "metadata": {
        "id": "7rh4WfWfvwtE",
        "colab_type": "code",
        "outputId": "ef79f19a-c3c7-4436-de24-ee5d0ac5fee1",
        "colab": {
          "base_uri": "https://localhost:8080/",
          "height": 34
        }
      },
      "source": [
        "y_train_ohe.shape, y_test_ohe.shape"
      ],
      "execution_count": 15,
      "outputs": [
        {
          "output_type": "execute_result",
          "data": {
            "text/plain": [
              "((19800, 10), (750, 10))"
            ]
          },
          "metadata": {
            "tags": []
          },
          "execution_count": 15
        }
      ]
    },
    {
      "cell_type": "code",
      "metadata": {
        "id": "gBtTOduSvyNn",
        "colab_type": "code",
        "colab": {}
      },
      "source": [
        "# Split Train dataset into train and validation\n",
        "(X_train, X_valid) = X_train[2000:], X_train[:2000]\n",
        "(y_train, y_valid) = y_train_ohe[2000:], y_train_ohe[:2000]\n",
        "X_test = X_test\n",
        "y_test = y_test_ohe"
      ],
      "execution_count": 0,
      "outputs": []
    },
    {
      "cell_type": "code",
      "metadata": {
        "id": "8oi6KJA1v1vx",
        "colab_type": "code",
        "outputId": "84a59294-977c-4e84-88f6-9d4755524959",
        "colab": {
          "base_uri": "https://localhost:8080/",
          "height": 34
        }
      },
      "source": [
        "X_train.shape, X_valid.shape, X_test.shape"
      ],
      "execution_count": 17,
      "outputs": [
        {
          "output_type": "execute_result",
          "data": {
            "text/plain": [
              "((17800, 2048, 2), (2000, 2048, 2), (750, 2048, 2))"
            ]
          },
          "metadata": {
            "tags": []
          },
          "execution_count": 17
        }
      ]
    },
    {
      "cell_type": "code",
      "metadata": {
        "id": "3K0Wi8nqv4Ne",
        "colab_type": "code",
        "outputId": "e503d04b-a1fa-46f5-a4ec-c4ab035ea2fb",
        "colab": {
          "base_uri": "https://localhost:8080/",
          "height": 34
        }
      },
      "source": [
        "y_train.shape, y_valid.shape, y_test.shape"
      ],
      "execution_count": 18,
      "outputs": [
        {
          "output_type": "execute_result",
          "data": {
            "text/plain": [
              "((17800, 10), (2000, 10), (750, 10))"
            ]
          },
          "metadata": {
            "tags": []
          },
          "execution_count": 18
        }
      ]
    },
    {
      "cell_type": "code",
      "metadata": {
        "id": "V2ROnZ4av59F",
        "colab_type": "code",
        "colab": {}
      },
      "source": [
        "# Define Model\n",
        "# CNN model with 2 Channels\n",
        "model = Sequential()"
      ],
      "execution_count": 0,
      "outputs": []
    },
    {
      "cell_type": "code",
      "metadata": {
        "id": "OSfdc46fwABA",
        "colab_type": "code",
        "colab": {}
      },
      "source": [
        "# Five Conv1D + Pooling Layers\n",
        "# 1 -> Conv1D + MaxPooling1D\n",
        "model.add(Conv1D(filters= 16*16, kernel_size= 64, strides= 16, padding= 'same', activation= 'relu', input_shape= (2048, 2), name='ConvLayer1'))\n",
        "model.add(MaxPooling1D(pool_size= 2))\n",
        "# 2 -> Conv1D + MaxPooling1D\n",
        "model.add(Conv1D(filters= 16, kernel_size= 3, strides= 1, padding= 'same', activation= 'relu', name='ConvLayer2'))\n",
        "model.add(MaxPooling1D(pool_size= 2))\n",
        "# 3 -> Conv1D + MaxPooling1D\n",
        "model.add(Conv1D(filters= 32, kernel_size= 3, strides= 1, padding= 'same', activation= 'relu', name='ConvLayer3'))\n",
        "model.add(MaxPooling1D(pool_size= 2))\n",
        "model.add(Dropout(0.2))\n",
        "# 4 -> Conv1D + MaxPooling1D\n",
        "model.add(Conv1D(filters= 32, kernel_size= 3, strides= 1, padding= 'same', activation= 'relu', name='ConvLayer4'))\n",
        "model.add(MaxPooling1D(pool_size= 2))\n",
        "model.add(Dropout(0.2))\n",
        "# 5 -> Conv1D + MaxPooling1D\n",
        "model.add(Conv1D(filters= 32, kernel_size= 3, strides= 1, padding= 'same', activation= 'relu', name='ConvLayer5'))\n",
        "model.add(MaxPooling1D(pool_size= 2))\n",
        "# Flatten Layer\n",
        "model.add(Flatten())\n",
        "model.add(Dense(50, activation= 'relu', name='DenseLayer'))\n",
        "model.add(Dropout(0.2))\n",
        "# Output class\n",
        "model.add(Dense(10, activation= 'softmax'))"
      ],
      "execution_count": 0,
      "outputs": []
    },
    {
      "cell_type": "code",
      "metadata": {
        "id": "T1nBvEoawCP9",
        "colab_type": "code",
        "outputId": "b3613c82-9c1d-4246-8d9c-1f280d7e48ca",
        "colab": {
          "base_uri": "https://localhost:8080/",
          "height": 708
        }
      },
      "source": [
        "# model summary\n",
        "model.summary()"
      ],
      "execution_count": 21,
      "outputs": [
        {
          "output_type": "stream",
          "text": [
            "Model: \"sequential\"\n",
            "_________________________________________________________________\n",
            "Layer (type)                 Output Shape              Param #   \n",
            "=================================================================\n",
            "ConvLayer1 (Conv1D)          (None, 128, 256)          33024     \n",
            "_________________________________________________________________\n",
            "max_pooling1d (MaxPooling1D) (None, 64, 256)           0         \n",
            "_________________________________________________________________\n",
            "ConvLayer2 (Conv1D)          (None, 64, 16)            12304     \n",
            "_________________________________________________________________\n",
            "max_pooling1d_1 (MaxPooling1 (None, 32, 16)            0         \n",
            "_________________________________________________________________\n",
            "ConvLayer3 (Conv1D)          (None, 32, 32)            1568      \n",
            "_________________________________________________________________\n",
            "max_pooling1d_2 (MaxPooling1 (None, 16, 32)            0         \n",
            "_________________________________________________________________\n",
            "dropout (Dropout)            (None, 16, 32)            0         \n",
            "_________________________________________________________________\n",
            "ConvLayer4 (Conv1D)          (None, 16, 32)            3104      \n",
            "_________________________________________________________________\n",
            "max_pooling1d_3 (MaxPooling1 (None, 8, 32)             0         \n",
            "_________________________________________________________________\n",
            "dropout_1 (Dropout)          (None, 8, 32)             0         \n",
            "_________________________________________________________________\n",
            "ConvLayer5 (Conv1D)          (None, 8, 32)             3104      \n",
            "_________________________________________________________________\n",
            "max_pooling1d_4 (MaxPooling1 (None, 4, 32)             0         \n",
            "_________________________________________________________________\n",
            "flatten (Flatten)            (None, 128)               0         \n",
            "_________________________________________________________________\n",
            "DenseLayer (Dense)           (None, 50)                6450      \n",
            "_________________________________________________________________\n",
            "dropout_2 (Dropout)          (None, 50)                0         \n",
            "_________________________________________________________________\n",
            "dense (Dense)                (None, 10)                510       \n",
            "=================================================================\n",
            "Total params: 60,064\n",
            "Trainable params: 60,064\n",
            "Non-trainable params: 0\n",
            "_________________________________________________________________\n"
          ],
          "name": "stdout"
        }
      ]
    },
    {
      "cell_type": "code",
      "metadata": {
        "id": "9xakz7zzwEHw",
        "colab_type": "code",
        "colab": {}
      },
      "source": [
        "# compile the model\n",
        "model.compile(loss='categorical_crossentropy', \n",
        "              optimizer='rmsprop', \n",
        "              metrics=['accuracy'])"
      ],
      "execution_count": 0,
      "outputs": []
    },
    {
      "cell_type": "code",
      "metadata": {
        "id": "A0ec8NwCwORL",
        "colab_type": "code",
        "colab": {}
      },
      "source": [
        "# train the model\n",
        "checkpointer = ModelCheckpoint(filepath='model.weights.best.hdf5', \n",
        "                               verbose=1, \n",
        "                               save_best_only=True)"
      ],
      "execution_count": 0,
      "outputs": []
    },
    {
      "cell_type": "code",
      "metadata": {
        "id": "u4GBPIT9wUmW",
        "colab_type": "code",
        "outputId": "0baa99c4-2d31-46e1-ee44-a1a4051dee78",
        "colab": {
          "base_uri": "https://localhost:8080/",
          "height": 587
        }
      },
      "source": [
        "hist = model.fit(X_train[:,:,0:2], y_train, \n",
        "                 batch_size= 32, \n",
        "                 epochs= 8, \n",
        "                 validation_data= (X_valid[:,:,0:2], y_valid), \n",
        "                 callbacks= [checkpointer], \n",
        "                 verbose= 1, \n",
        "                 shuffle= True)"
      ],
      "execution_count": 24,
      "outputs": [
        {
          "output_type": "stream",
          "text": [
            "Train on 17800 samples, validate on 2000 samples\n",
            "Epoch 1/8\n",
            "17792/17800 [============================>.] - ETA: 0s - loss: 0.4767 - accuracy: 0.8270\n",
            "Epoch 00001: val_loss improved from inf to 0.01197, saving model to model.weights.best.hdf5\n",
            "17800/17800 [==============================] - 33s 2ms/sample - loss: 0.4765 - accuracy: 0.8271 - val_loss: 0.0120 - val_accuracy: 0.9965\n",
            "Epoch 2/8\n",
            "17760/17800 [============================>.] - ETA: 0s - loss: 0.0388 - accuracy: 0.9881\n",
            "Epoch 00002: val_loss improved from 0.01197 to 0.00447, saving model to model.weights.best.hdf5\n",
            "17800/17800 [==============================] - 30s 2ms/sample - loss: 0.0388 - accuracy: 0.9881 - val_loss: 0.0045 - val_accuracy: 0.9990\n",
            "Epoch 3/8\n",
            "17760/17800 [============================>.] - ETA: 0s - loss: 0.0212 - accuracy: 0.9946\n",
            "Epoch 00003: val_loss improved from 0.00447 to 0.00070, saving model to model.weights.best.hdf5\n",
            "17800/17800 [==============================] - 30s 2ms/sample - loss: 0.0212 - accuracy: 0.9946 - val_loss: 7.0070e-04 - val_accuracy: 1.0000\n",
            "Epoch 4/8\n",
            "17792/17800 [============================>.] - ETA: 0s - loss: 0.0158 - accuracy: 0.9967\n",
            "Epoch 00004: val_loss did not improve from 0.00070\n",
            "17800/17800 [==============================] - 29s 2ms/sample - loss: 0.0158 - accuracy: 0.9967 - val_loss: 0.0597 - val_accuracy: 0.9880\n",
            "Epoch 5/8\n",
            "17792/17800 [============================>.] - ETA: 0s - loss: 0.0142 - accuracy: 0.9979\n",
            "Epoch 00005: val_loss improved from 0.00070 to 0.00022, saving model to model.weights.best.hdf5\n",
            "17800/17800 [==============================] - 32s 2ms/sample - loss: 0.0142 - accuracy: 0.9979 - val_loss: 2.1572e-04 - val_accuracy: 1.0000\n",
            "Epoch 6/8\n",
            "17792/17800 [============================>.] - ETA: 0s - loss: 0.0158 - accuracy: 0.9970\n",
            "Epoch 00006: val_loss improved from 0.00022 to 0.00001, saving model to model.weights.best.hdf5\n",
            "17800/17800 [==============================] - 34s 2ms/sample - loss: 0.0158 - accuracy: 0.9970 - val_loss: 6.5503e-06 - val_accuracy: 1.0000\n",
            "Epoch 7/8\n",
            "17792/17800 [============================>.] - ETA: 0s - loss: 0.0106 - accuracy: 0.9982\n",
            "Epoch 00007: val_loss improved from 0.00001 to 0.00000, saving model to model.weights.best.hdf5\n",
            "17800/17800 [==============================] - 33s 2ms/sample - loss: 0.0106 - accuracy: 0.9982 - val_loss: 2.3274e-06 - val_accuracy: 1.0000\n",
            "Epoch 8/8\n",
            "17792/17800 [============================>.] - ETA: 0s - loss: 0.0084 - accuracy: 0.9979\n",
            "Epoch 00008: val_loss improved from 0.00000 to 0.00000, saving model to model.weights.best.hdf5\n",
            "17800/17800 [==============================] - 34s 2ms/sample - loss: 0.0084 - accuracy: 0.9979 - val_loss: 1.1330e-07 - val_accuracy: 1.0000\n"
          ],
          "name": "stdout"
        }
      ]
    },
    {
      "cell_type": "code",
      "metadata": {
        "id": "Z1pzyW37wnQS",
        "colab_type": "code",
        "outputId": "2dd940cc-5f06-415a-9b9a-48d5209b6f42",
        "colab": {
          "base_uri": "https://localhost:8080/",
          "height": 295
        }
      },
      "source": [
        "# Plot training & validation accuracy values\n",
        "plt.plot(hist.history['accuracy'])\n",
        "plt.plot(hist.history['val_accuracy'])\n",
        "plt.title('Model accuracy')\n",
        "plt.ylabel('Accuracy')\n",
        "plt.xlabel('Epoch')\n",
        "plt.legend(['Train', 'Test'], loc='upper left')\n",
        "plt.show()"
      ],
      "execution_count": 25,
      "outputs": [
        {
          "output_type": "display_data",
          "data": {
            "image/png": "[encoded data removed]",
            "text/plain": [
              "<Figure size 432x288 with 1 Axes>"
            ]
          },
          "metadata": {
            "tags": []
          }
        }
      ]
    },
    {
      "cell_type": "code",
      "metadata": {
        "id": "B4a7YGXPxz2C",
        "colab_type": "code",
        "outputId": "9bb6dae8-3e8e-4de2-c37b-26ccc001adad",
        "colab": {
          "base_uri": "https://localhost:8080/",
          "height": 295
        }
      },
      "source": [
        "# Plot training & validation loss values\n",
        "plt.plot(hist.history['loss'])\n",
        "plt.plot(hist.history['val_loss'])\n",
        "plt.title('Model loss')\n",
        "plt.ylabel('Loss')\n",
        "plt.xlabel('Epoch')\n",
        "plt.legend(['Train', 'Test'], loc='upper left')\n",
        "plt.show()"
      ],
      "execution_count": 26,
      "outputs": [
        {
          "output_type": "display_data",
          "data": {
            "image/png": "[encoded data removed]",
            "text/plain": [
              "<Figure size 432x288 with 1 Axes>"
            ]
          },
          "metadata": {
            "tags": []
          }
        }
      ]
    },
    {
      "cell_type": "code",
      "metadata": {
        "id": "12LKQk5ayBkj",
        "colab_type": "code",
        "colab": {}
      },
      "source": [
        "# load the weights that yielded the best validation accuracy\n",
        "model.load_weights('model.weights.best.hdf5')"
      ],
      "execution_count": 0,
      "outputs": []
    },
    {
      "cell_type": "code",
      "metadata": {
        "id": "vG4FZzzQyOIr",
        "colab_type": "code",
        "outputId": "7efd66a0-a57d-45a0-adeb-d6a540fc786b",
        "colab": {
          "base_uri": "https://localhost:8080/",
          "height": 52
        }
      },
      "source": [
        "# evaluate and print test accuracy\n",
        "score = model.evaluate(X_test[:,:,0:2], y_test, verbose=0)\n",
        "print('\\n', 'CNN Test accuracy:', score[1])"
      ],
      "execution_count": 28,
      "outputs": [
        {
          "output_type": "stream",
          "text": [
            "\n",
            " CNN Test accuracy: 1.0\n"
          ],
          "name": "stdout"
        }
      ]
    },
    {
      "cell_type": "code",
      "metadata": {
        "id": "hoNHIOgcySpU",
        "colab_type": "code",
        "outputId": "75581012-122f-4806-acf4-0ca59f0c688a",
        "colab": {
          "base_uri": "https://localhost:8080/",
          "height": 52
        }
      },
      "source": [
        "# evaluate and print train accuracy\n",
        "score = model.evaluate(X_train[:,:,0:2], y_train, verbose=0)\n",
        "print('\\n', 'CNN train accuracy:', score[1])"
      ],
      "execution_count": 29,
      "outputs": [
        {
          "output_type": "stream",
          "text": [
            "\n",
            " CNN train accuracy: 1.0\n"
          ],
          "name": "stdout"
        }
      ]
    },
    {
      "cell_type": "code",
      "metadata": {
        "id": "_JZkxbcdye-2",
        "colab_type": "code",
        "outputId": "1dc9d88a-003f-4680-b366-65c912fc61b4",
        "colab": {
          "base_uri": "https://localhost:8080/",
          "height": 52
        }
      },
      "source": [
        "# evaluate and print validation accuracy\n",
        "score = model.evaluate(X_valid[:,:,0:2], y_valid, verbose=0)\n",
        "print('\\n', 'CNN validation accuracy:', score[1])"
      ],
      "execution_count": 30,
      "outputs": [
        {
          "output_type": "stream",
          "text": [
            "\n",
            " CNN validation accuracy: 1.0\n"
          ],
          "name": "stdout"
        }
      ]
    },
    {
      "cell_type": "markdown",
      "metadata": {
        "id": "YJTJaOf5SMF4",
        "colab_type": "text"
      },
      "source": [
        "**Dense Layer**"
      ]
    },
    {
      "cell_type": "code",
      "metadata": {
        "id": "ICIBE6W1yAUd",
        "colab_type": "code",
        "colab": {
          "base_uri": "https://localhost:8080/",
          "height": 34
        },
        "outputId": "146c84fc-09be-4740-da7c-23ed491d1dbe"
      },
      "source": [
        "# get filters name and shape\n",
        "for layer in model.layers:\n",
        "  # check for dense layer\n",
        "  if 'DenseLayer' not in layer.name:\n",
        "    continue\n",
        "  # get filter weights\n",
        "  filters, biases = layer.get_weights()\n",
        "  print(layer.name, filters.shape)"
      ],
      "execution_count": 39,
      "outputs": [
        {
          "output_type": "stream",
          "text": [
            "DenseLayer (128, 50)\n"
          ],
          "name": "stdout"
        }
      ]
    },
    {
      "cell_type": "code",
      "metadata": {
        "id": "_CLgKa9wbUhb",
        "colab_type": "code",
        "colab": {}
      },
      "source": [
        "# Use Dense Layer named \"VisualizationLayer\"\n",
        "from tensorflow.keras.models import Model\n",
        "intermediate_layer_model = Model(inputs= model.input, \n",
        "                                 outputs= model.get_layer('DenseLayer').output)"
      ],
      "execution_count": 0,
      "outputs": []
    },
    {
      "cell_type": "code",
      "metadata": {
        "id": "cB5VxzjP6VP5",
        "colab_type": "code",
        "colab": {}
      },
      "source": [
        "embeddings = []\n",
        "for i in X_test:\n",
        "  i = np.expand_dims(i, axis=0)\n",
        "  pred = intermediate_layer_model.predict(i)\n",
        "  pred = pred.flatten()\n",
        "  embeddings.append(pred)"
      ],
      "execution_count": 0,
      "outputs": []
    },
    {
      "cell_type": "code",
      "metadata": {
        "id": "weaPHR987ZSu",
        "colab_type": "code",
        "colab": {
          "base_uri": "https://localhost:8080/",
          "height": 34
        },
        "outputId": "266004be-8e34-4ff6-d3a2-1d44369e5673"
      },
      "source": [
        "embeddings[0].shape"
      ],
      "execution_count": 34,
      "outputs": [
        {
          "output_type": "execute_result",
          "data": {
            "text/plain": [
              "(50,)"
            ]
          },
          "metadata": {
            "tags": []
          },
          "execution_count": 34
        }
      ]
    },
    {
      "cell_type": "code",
      "metadata": {
        "id": "zIUuarvu6rtw",
        "colab_type": "code",
        "colab": {}
      },
      "source": [
        "from sklearn.manifold import TSNE\n",
        "sklearn_embedded = TSNE(n_components=2).fit_transform(embeddings)"
      ],
      "execution_count": 0,
      "outputs": []
    },
    {
      "cell_type": "code",
      "metadata": {
        "id": "LCFtRk0_K9P5",
        "colab_type": "code",
        "colab": {}
      },
      "source": [
        "color_intermediates = []\n",
        "for i in range(len(X_test)):\n",
        "  output_class = np.argmax(y_test[i,:])\n",
        "  if(output_class == 0):\n",
        "    color_intermediates.append(\"#0000ff\")\n",
        "  elif(output_class == 1):\n",
        "    color_intermediates.append(\"#ff0000\")\n",
        "  elif(output_class == 2):\n",
        "    color_intermediates.append(\"#00ff00\")\n",
        "  elif(output_class == 3):\n",
        "    color_intermediates.append(\"#ffff00\")\n",
        "  elif(output_class == 4):\n",
        "    color_intermediates.append(\"#008000\")\n",
        "  elif(output_class == 5):\n",
        "    color_intermediates.append(\"#ff00ff\")\n",
        "  elif(output_class == 6):\n",
        "    color_intermediates.append(\"#800080\")\n",
        "  elif(output_class == 7):\n",
        "    color_intermediates.append(\"#008080\")\n",
        "  elif(output_class == 8):\n",
        "    color_intermediates.append(\"#000080\")\n",
        "  else:\n",
        "    color_intermediates.append(\"#ff0000\")"
      ],
      "execution_count": 0,
      "outputs": []
    },
    {
      "cell_type": "code",
      "metadata": {
        "id": "bbnvLyT6K-td",
        "colab_type": "code",
        "colab": {
          "base_uri": "https://localhost:8080/",
          "height": 34
        },
        "outputId": "46a34688-ca39-404b-8b02-7ed24ab65edb"
      },
      "source": [
        "len(color_intermediates)"
      ],
      "execution_count": 37,
      "outputs": [
        {
          "output_type": "execute_result",
          "data": {
            "text/plain": [
              "750"
            ]
          },
          "metadata": {
            "tags": []
          },
          "execution_count": 37
        }
      ]
    },
    {
      "cell_type": "code",
      "metadata": {
        "id": "bnRRU9GmC48G",
        "colab_type": "code",
        "colab": {
          "base_uri": "https://localhost:8080/",
          "height": 502
        },
        "outputId": "9975a8db-044e-4bf3-b45f-781cd8c91537"
      },
      "source": [
        "fig, ax = plt.subplots(1, figsize= (8, 8))\n",
        "plt.scatter(x = sklearn_embedded[:,0], y=sklearn_embedded[:,1], color= color_intermediates, cmap='rainbow')\n",
        "plt.setp(ax, xticks= [], yticks= [])\n",
        "plt.title(\"Feature Visualization for Dense Layer\")"
      ],
      "execution_count": 40,
      "outputs": [
        {
          "output_type": "execute_result",
          "data": {
            "text/plain": [
              "Text(0.5, 1.0, 'Feature Visualization for Dense Layer')"
            ]
          },
          "metadata": {
            "tags": []
          },
          "execution_count": 40
        },
        {
          "output_type": "display_data",
          "data": {
            "image/png": "[encoded data removed]",
            "text/plain": [
              "<Figure size 576x576 with 1 Axes>"
            ]
          },
          "metadata": {
            "tags": []
          }
        }
      ]
    },
    {
      "cell_type": "markdown",
      "metadata": {
        "id": "olPZJ2IgWjS0",
        "colab_type": "text"
      },
      "source": [
        "**ConvLayer5**"
      ]
    },
    {
      "cell_type": "code",
      "metadata": {
        "id": "tBhtqrh5WoH3",
        "colab_type": "code",
        "colab": {
          "base_uri": "https://localhost:8080/",
          "height": 34
        },
        "outputId": "b6ce5618-bef4-4afb-9eb0-bd7d3ad9e346"
      },
      "source": [
        "# get filters name and shape\n",
        "for layer in model.layers:\n",
        "  # check for dense layer\n",
        "  if 'ConvLayer5' not in layer.name:\n",
        "    continue\n",
        "  # get filter weights\n",
        "  filters, biases = layer.get_weights()\n",
        "  print(layer.name, filters.shape)"
      ],
      "execution_count": 71,
      "outputs": [
        {
          "output_type": "stream",
          "text": [
            "ConvLayer5 (3, 32, 32)\n"
          ],
          "name": "stdout"
        }
      ]
    },
    {
      "cell_type": "code",
      "metadata": {
        "id": "nrIP2UdfWoM6",
        "colab_type": "code",
        "colab": {}
      },
      "source": [
        "# Use Dense Layer named \"ConvLayer5\"\n",
        "from tensorflow.keras.models import Model\n",
        "intermediate_layer_model = Model(inputs= model.input, \n",
        "                                 outputs= model.get_layer('ConvLayer5').output)"
      ],
      "execution_count": 0,
      "outputs": []
    },
    {
      "cell_type": "code",
      "metadata": {
        "id": "v5furhxoWoZm",
        "colab_type": "code",
        "colab": {}
      },
      "source": [
        "embeddings = []\n",
        "for i in X_test:\n",
        "  i = np.expand_dims(i, axis=0)\n",
        "  pred = intermediate_layer_model.predict(i)\n",
        "  pred = pred.flatten()\n",
        "  embeddings.append(pred)"
      ],
      "execution_count": 0,
      "outputs": []
    },
    {
      "cell_type": "code",
      "metadata": {
        "id": "yBT2gNoWWxry",
        "colab_type": "code",
        "colab": {
          "base_uri": "https://localhost:8080/",
          "height": 34
        },
        "outputId": "21a8c43b-1f47-4e83-b6c9-fcc86de446d0"
      },
      "source": [
        "embeddings[0].shape"
      ],
      "execution_count": 74,
      "outputs": [
        {
          "output_type": "execute_result",
          "data": {
            "text/plain": [
              "(256,)"
            ]
          },
          "metadata": {
            "tags": []
          },
          "execution_count": 74
        }
      ]
    },
    {
      "cell_type": "code",
      "metadata": {
        "id": "mrpAydxAWxxn",
        "colab_type": "code",
        "colab": {}
      },
      "source": [
        "from sklearn.manifold import TSNE\n",
        "sklearn_embedded = TSNE(n_components=2).fit_transform(embeddings)"
      ],
      "execution_count": 0,
      "outputs": []
    },
    {
      "cell_type": "code",
      "metadata": {
        "id": "NupZJWbzW7YH",
        "colab_type": "code",
        "colab": {
          "base_uri": "https://localhost:8080/",
          "height": 34
        },
        "outputId": "ac4b283a-c8e5-43b4-d8ed-9e3a935cbdc0"
      },
      "source": [
        "sklearn_embedded.shape"
      ],
      "execution_count": 76,
      "outputs": [
        {
          "output_type": "execute_result",
          "data": {
            "text/plain": [
              "(750, 2)"
            ]
          },
          "metadata": {
            "tags": []
          },
          "execution_count": 76
        }
      ]
    },
    {
      "cell_type": "code",
      "metadata": {
        "id": "h10NQ5KuXABv",
        "colab_type": "code",
        "colab": {
          "base_uri": "https://localhost:8080/",
          "height": 502
        },
        "outputId": "176b1d11-a581-45d7-c574-5927179518a2"
      },
      "source": [
        "fig, ax = plt.subplots(1, figsize= (8, 8))\n",
        "plt.scatter(x = sklearn_embedded[:,0], y=sklearn_embedded[:,1], color= color_intermediates, cmap='rainbow')\n",
        "plt.setp(ax, xticks= [], yticks= [])\n",
        "plt.title(\"Feature Visualization for Conv layer 5\")"
      ],
      "execution_count": 77,
      "outputs": [
        {
          "output_type": "execute_result",
          "data": {
            "text/plain": [
              "Text(0.5, 1.0, 'Feature Visualization for Conv layer 5')"
            ]
          },
          "metadata": {
            "tags": []
          },
          "execution_count": 77
        },
        {
          "output_type": "display_data",
          "data": {
            "image/png": "[encoded data removed]",
            "text/plain": [
              "<Figure size 576x576 with 1 Axes>"
            ]
          },
          "metadata": {
            "tags": []
          }
        }
      ]
    },
    {
      "cell_type": "markdown",
      "metadata": {
        "id": "3QS8o_ICSapH",
        "colab_type": "text"
      },
      "source": [
        "**ConvLayer4**"
      ]
    },
    {
      "cell_type": "code",
      "metadata": {
        "id": "uGFDt0niSSjH",
        "colab_type": "code",
        "colab": {
          "base_uri": "https://localhost:8080/",
          "height": 34
        },
        "outputId": "ae70b2ce-d77e-4ac3-ae48-25233cb1996d"
      },
      "source": [
        "# get filters name and shape\n",
        "for layer in model.layers:\n",
        "  # check for dense layer\n",
        "  if 'ConvLayer4' not in layer.name:\n",
        "    continue\n",
        "  # get filter weights\n",
        "  filters, biases = layer.get_weights()\n",
        "  print(layer.name, filters.shape)"
      ],
      "execution_count": 41,
      "outputs": [
        {
          "output_type": "stream",
          "text": [
            "ConvLayer4 (3, 32, 32)\n"
          ],
          "name": "stdout"
        }
      ]
    },
    {
      "cell_type": "code",
      "metadata": {
        "id": "WCoAQJiqSi-I",
        "colab_type": "code",
        "colab": {}
      },
      "source": [
        "# Use Dense Layer named \"ConvLayer4\"\n",
        "from tensorflow.keras.models import Model\n",
        "intermediate_layer_model = Model(inputs= model.input, \n",
        "                                 outputs= model.get_layer('ConvLayer4').output)"
      ],
      "execution_count": 0,
      "outputs": []
    },
    {
      "cell_type": "code",
      "metadata": {
        "id": "3ZGdkLEmSpqI",
        "colab_type": "code",
        "colab": {}
      },
      "source": [
        "embeddings = []\n",
        "for i in X_test:\n",
        "  i = np.expand_dims(i, axis=0)\n",
        "  pred = intermediate_layer_model.predict(i)\n",
        "  pred = pred.flatten()\n",
        "  embeddings.append(pred)"
      ],
      "execution_count": 0,
      "outputs": []
    },
    {
      "cell_type": "code",
      "metadata": {
        "id": "vkc_2oKbSw_q",
        "colab_type": "code",
        "colab": {
          "base_uri": "https://localhost:8080/",
          "height": 34
        },
        "outputId": "ae3a8865-1837-47b2-f784-b899f641e4b5"
      },
      "source": [
        "embeddings[0].shape"
      ],
      "execution_count": 44,
      "outputs": [
        {
          "output_type": "execute_result",
          "data": {
            "text/plain": [
              "(512,)"
            ]
          },
          "metadata": {
            "tags": []
          },
          "execution_count": 44
        }
      ]
    },
    {
      "cell_type": "code",
      "metadata": {
        "id": "djcly8SHS0l8",
        "colab_type": "code",
        "colab": {}
      },
      "source": [
        "from sklearn.manifold import TSNE\n",
        "sklearn_embedded = TSNE(n_components=2).fit_transform(embeddings)"
      ],
      "execution_count": 0,
      "outputs": []
    },
    {
      "cell_type": "code",
      "metadata": {
        "id": "byFgQTGBS6hk",
        "colab_type": "code",
        "colab": {
          "base_uri": "https://localhost:8080/",
          "height": 34
        },
        "outputId": "083d6e5e-3991-46da-9e71-46a0a7f387dc"
      },
      "source": [
        "sklearn_embedded.shape"
      ],
      "execution_count": 46,
      "outputs": [
        {
          "output_type": "execute_result",
          "data": {
            "text/plain": [
              "(750, 2)"
            ]
          },
          "metadata": {
            "tags": []
          },
          "execution_count": 46
        }
      ]
    },
    {
      "cell_type": "code",
      "metadata": {
        "id": "M6J5eklgTC2C",
        "colab_type": "code",
        "colab": {
          "base_uri": "https://localhost:8080/",
          "height": 502
        },
        "outputId": "69bdd7a7-ed96-4cfb-bf7a-885e4be9cda2"
      },
      "source": [
        "fig, ax = plt.subplots(1, figsize= (8, 8))\n",
        "plt.scatter(x = sklearn_embedded[:,0], y=sklearn_embedded[:,1], color= color_intermediates, cmap='rainbow')\n",
        "plt.setp(ax, xticks= [], yticks= [])\n",
        "plt.title(\"Feature Visualization for Conv layer 4\")"
      ],
      "execution_count": 48,
      "outputs": [
        {
          "output_type": "execute_result",
          "data": {
            "text/plain": [
              "Text(0.5, 1.0, 'Feature Visualization for Conv layer 4')"
            ]
          },
          "metadata": {
            "tags": []
          },
          "execution_count": 48
        },
        {
          "output_type": "display_data",
          "data": {
            "image/png": "[encoded data removed]",
            "text/plain": [
              "<Figure size 576x576 with 1 Axes>"
            ]
          },
          "metadata": {
            "tags": []
          }
        }
      ]
    },
    {
      "cell_type": "markdown",
      "metadata": {
        "id": "9sTNVw2dTW19",
        "colab_type": "text"
      },
      "source": [
        "**ConvLayer3**"
      ]
    },
    {
      "cell_type": "code",
      "metadata": {
        "id": "gL5E-wifTFFy",
        "colab_type": "code",
        "colab": {
          "base_uri": "https://localhost:8080/",
          "height": 34
        },
        "outputId": "e80bc917-50db-481d-a1f8-f7d67a374a96"
      },
      "source": [
        "# get filters name and shape\n",
        "for layer in model.layers:\n",
        "  # check for dense layer\n",
        "  if 'ConvLayer3' not in layer.name:\n",
        "    continue\n",
        "  # get filter weights\n",
        "  filters, biases = layer.get_weights()\n",
        "  print(layer.name, filters.shape)"
      ],
      "execution_count": 49,
      "outputs": [
        {
          "output_type": "stream",
          "text": [
            "ConvLayer3 (3, 16, 32)\n"
          ],
          "name": "stdout"
        }
      ]
    },
    {
      "cell_type": "code",
      "metadata": {
        "id": "yuFmo5KPTeFq",
        "colab_type": "code",
        "colab": {}
      },
      "source": [
        "# Use Dense Layer named \"ConvLayer3\"\n",
        "from tensorflow.keras.models import Model\n",
        "intermediate_layer_model = Model(inputs= model.input, \n",
        "                                 outputs= model.get_layer('ConvLayer3').output)"
      ],
      "execution_count": 0,
      "outputs": []
    },
    {
      "cell_type": "code",
      "metadata": {
        "id": "LgEugFfBTiOF",
        "colab_type": "code",
        "colab": {}
      },
      "source": [
        "embeddings = []\n",
        "for i in X_test:\n",
        "  i = np.expand_dims(i, axis=0)\n",
        "  pred = intermediate_layer_model.predict(i)\n",
        "  pred = pred.flatten()\n",
        "  embeddings.append(pred)"
      ],
      "execution_count": 0,
      "outputs": []
    },
    {
      "cell_type": "code",
      "metadata": {
        "id": "xAbctD4yTmrP",
        "colab_type": "code",
        "colab": {
          "base_uri": "https://localhost:8080/",
          "height": 34
        },
        "outputId": "155bb3f9-a360-4a75-a736-a1ef09b0d868"
      },
      "source": [
        "embeddings[0].shape"
      ],
      "execution_count": 52,
      "outputs": [
        {
          "output_type": "execute_result",
          "data": {
            "text/plain": [
              "(1024,)"
            ]
          },
          "metadata": {
            "tags": []
          },
          "execution_count": 52
        }
      ]
    },
    {
      "cell_type": "code",
      "metadata": {
        "id": "57qo6IoyTqh5",
        "colab_type": "code",
        "colab": {}
      },
      "source": [
        "from sklearn.manifold import TSNE\n",
        "sklearn_embedded = TSNE(n_components=2).fit_transform(embeddings)"
      ],
      "execution_count": 0,
      "outputs": []
    },
    {
      "cell_type": "code",
      "metadata": {
        "id": "70DK6Oc8TtHm",
        "colab_type": "code",
        "colab": {
          "base_uri": "https://localhost:8080/",
          "height": 34
        },
        "outputId": "6fc1dbf9-1d50-450d-d247-c682bcf4adb6"
      },
      "source": [
        "sklearn_embedded.shape"
      ],
      "execution_count": 54,
      "outputs": [
        {
          "output_type": "execute_result",
          "data": {
            "text/plain": [
              "(750, 2)"
            ]
          },
          "metadata": {
            "tags": []
          },
          "execution_count": 54
        }
      ]
    },
    {
      "cell_type": "code",
      "metadata": {
        "id": "jgU1J4EQTx6C",
        "colab_type": "code",
        "colab": {
          "base_uri": "https://localhost:8080/",
          "height": 502
        },
        "outputId": "85501c5d-9b82-4930-ac8a-b58d101b99ae"
      },
      "source": [
        "fig, ax = plt.subplots(1, figsize= (8, 8))\n",
        "plt.scatter(x = sklearn_embedded[:,0], y=sklearn_embedded[:,1], color= color_intermediates, cmap='rainbow')\n",
        "plt.setp(ax, xticks= [], yticks= [])\n",
        "plt.title(\"Feature Visualization for Conv layer 3\")"
      ],
      "execution_count": 55,
      "outputs": [
        {
          "output_type": "execute_result",
          "data": {
            "text/plain": [
              "Text(0.5, 1.0, 'Feature Visualization for Conv layer 3')"
            ]
          },
          "metadata": {
            "tags": []
          },
          "execution_count": 55
        },
        {
          "output_type": "display_data",
          "data": {
            "image/png": "[encoded data removed]",
            "text/plain": [
              "<Figure size 576x576 with 1 Axes>"
            ]
          },
          "metadata": {
            "tags": []
          }
        }
      ]
    },
    {
      "cell_type": "markdown",
      "metadata": {
        "id": "GmUUda9ZUJaw",
        "colab_type": "text"
      },
      "source": [
        "**ConvLayer2**"
      ]
    },
    {
      "cell_type": "code",
      "metadata": {
        "id": "rYPCBUQiT171",
        "colab_type": "code",
        "colab": {
          "base_uri": "https://localhost:8080/",
          "height": 34
        },
        "outputId": "19fd9b64-e373-486f-964f-f18c10cef1b5"
      },
      "source": [
        "# get filters name and shape\n",
        "for layer in model.layers:\n",
        "  # check for dense layer\n",
        "  if 'ConvLayer2' not in layer.name:\n",
        "    continue\n",
        "  # get filter weights\n",
        "  filters, biases = layer.get_weights()\n",
        "  print(layer.name, filters.shape)"
      ],
      "execution_count": 56,
      "outputs": [
        {
          "output_type": "stream",
          "text": [
            "ConvLayer2 (3, 256, 16)\n"
          ],
          "name": "stdout"
        }
      ]
    },
    {
      "cell_type": "code",
      "metadata": {
        "id": "N1XorU4tUPLA",
        "colab_type": "code",
        "colab": {}
      },
      "source": [
        "# Use Dense Layer named \"ConvLayer2\"\n",
        "from tensorflow.keras.models import Model\n",
        "intermediate_layer_model = Model(inputs= model.input, \n",
        "                                 outputs= model.get_layer('ConvLayer2').output)"
      ],
      "execution_count": 0,
      "outputs": []
    },
    {
      "cell_type": "code",
      "metadata": {
        "id": "IwOWyZqFUTg4",
        "colab_type": "code",
        "colab": {}
      },
      "source": [
        "embeddings = []\n",
        "for i in X_test:\n",
        "  i = np.expand_dims(i, axis=0)\n",
        "  pred = intermediate_layer_model.predict(i)\n",
        "  pred = pred.flatten()\n",
        "  embeddings.append(pred)"
      ],
      "execution_count": 0,
      "outputs": []
    },
    {
      "cell_type": "code",
      "metadata": {
        "id": "zgv7J48fUXuH",
        "colab_type": "code",
        "colab": {
          "base_uri": "https://localhost:8080/",
          "height": 34
        },
        "outputId": "f4510450-8244-49f7-fd65-4f334897d673"
      },
      "source": [
        "embeddings[0].shape"
      ],
      "execution_count": 60,
      "outputs": [
        {
          "output_type": "execute_result",
          "data": {
            "text/plain": [
              "(1024,)"
            ]
          },
          "metadata": {
            "tags": []
          },
          "execution_count": 60
        }
      ]
    },
    {
      "cell_type": "code",
      "metadata": {
        "id": "hWr2XpNMUagI",
        "colab_type": "code",
        "colab": {}
      },
      "source": [
        "from sklearn.manifold import TSNE\n",
        "sklearn_embedded = TSNE(n_components=2).fit_transform(embeddings)"
      ],
      "execution_count": 0,
      "outputs": []
    },
    {
      "cell_type": "code",
      "metadata": {
        "id": "0B56GqbrUgcF",
        "colab_type": "code",
        "colab": {
          "base_uri": "https://localhost:8080/",
          "height": 34
        },
        "outputId": "6929bf48-5b84-4927-ab1b-c00fdad9b899"
      },
      "source": [
        "sklearn_embedded.shape"
      ],
      "execution_count": 62,
      "outputs": [
        {
          "output_type": "execute_result",
          "data": {
            "text/plain": [
              "(750, 2)"
            ]
          },
          "metadata": {
            "tags": []
          },
          "execution_count": 62
        }
      ]
    },
    {
      "cell_type": "code",
      "metadata": {
        "id": "n0eL0j5fUlqu",
        "colab_type": "code",
        "colab": {
          "base_uri": "https://localhost:8080/",
          "height": 502
        },
        "outputId": "a9e40224-07c0-4a28-9a14-890ed5050b46"
      },
      "source": [
        "fig, ax = plt.subplots(1, figsize= (8, 8))\n",
        "plt.scatter(x = sklearn_embedded[:,0], y=sklearn_embedded[:,1], color= color_intermediates, cmap='rainbow')\n",
        "plt.setp(ax, xticks= [], yticks= [])\n",
        "plt.title(\"Feature Visualization for Conv layer 2\")"
      ],
      "execution_count": 63,
      "outputs": [
        {
          "output_type": "execute_result",
          "data": {
            "text/plain": [
              "Text(0.5, 1.0, 'Feature Visualization for Conv layer 3')"
            ]
          },
          "metadata": {
            "tags": []
          },
          "execution_count": 63
        },
        {
          "output_type": "display_data",
          "data": {
            "image/png": "[encoded data removed]",
            "text/plain": [
              "<Figure size 576x576 with 1 Axes>"
            ]
          },
          "metadata": {
            "tags": []
          }
        }
      ]
    },
    {
      "cell_type": "markdown",
      "metadata": {
        "id": "907d4TfgU1Xp",
        "colab_type": "text"
      },
      "source": [
        "**ConvLayer1**"
      ]
    },
    {
      "cell_type": "code",
      "metadata": {
        "id": "bSG9ATWDUoa_",
        "colab_type": "code",
        "colab": {
          "base_uri": "https://localhost:8080/",
          "height": 34
        },
        "outputId": "98701a0b-1016-49d6-d71c-292ebfb3d04f"
      },
      "source": [
        "# get filters name and shape\n",
        "for layer in model.layers:\n",
        "  # check for dense layer\n",
        "  if 'ConvLayer1' not in layer.name:\n",
        "    continue\n",
        "  # get filter weights\n",
        "  filters, biases = layer.get_weights()\n",
        "  print(layer.name, filters.shape)"
      ],
      "execution_count": 64,
      "outputs": [
        {
          "output_type": "stream",
          "text": [
            "ConvLayer1 (64, 2, 256)\n"
          ],
          "name": "stdout"
        }
      ]
    },
    {
      "cell_type": "code",
      "metadata": {
        "id": "2I8zbJQDU8lA",
        "colab_type": "code",
        "colab": {}
      },
      "source": [
        "# Use Dense Layer named \"ConvLayer1\"\n",
        "from tensorflow.keras.models import Model\n",
        "intermediate_layer_model = Model(inputs= model.input, \n",
        "                                 outputs= model.get_layer('ConvLayer1').output)"
      ],
      "execution_count": 0,
      "outputs": []
    },
    {
      "cell_type": "code",
      "metadata": {
        "id": "Kz4whyJnVA9d",
        "colab_type": "code",
        "colab": {}
      },
      "source": [
        "embeddings = []\n",
        "for i in X_test:\n",
        "  i = np.expand_dims(i, axis=0)\n",
        "  pred = intermediate_layer_model.predict(i)\n",
        "  pred = pred.flatten()\n",
        "  embeddings.append(pred)"
      ],
      "execution_count": 0,
      "outputs": []
    },
    {
      "cell_type": "code",
      "metadata": {
        "id": "2gXmUNJOV0Bi",
        "colab_type": "code",
        "colab": {
          "base_uri": "https://localhost:8080/",
          "height": 34
        },
        "outputId": "73c75808-d8e8-4bd4-efa8-419247b1dc84"
      },
      "source": [
        "embeddings[0].shape"
      ],
      "execution_count": 67,
      "outputs": [
        {
          "output_type": "execute_result",
          "data": {
            "text/plain": [
              "(32768,)"
            ]
          },
          "metadata": {
            "tags": []
          },
          "execution_count": 67
        }
      ]
    },
    {
      "cell_type": "code",
      "metadata": {
        "id": "Ei0UQE9hV26l",
        "colab_type": "code",
        "colab": {}
      },
      "source": [
        "from sklearn.manifold import TSNE\n",
        "sklearn_embedded = TSNE(n_components=2).fit_transform(embeddings)"
      ],
      "execution_count": 0,
      "outputs": []
    },
    {
      "cell_type": "code",
      "metadata": {
        "id": "fAX-MNCbV8ME",
        "colab_type": "code",
        "colab": {
          "base_uri": "https://localhost:8080/",
          "height": 34
        },
        "outputId": "58c918f0-b897-42f5-fcae-3bf14202d9ce"
      },
      "source": [
        "sklearn_embedded.shape"
      ],
      "execution_count": 69,
      "outputs": [
        {
          "output_type": "execute_result",
          "data": {
            "text/plain": [
              "(750, 2)"
            ]
          },
          "metadata": {
            "tags": []
          },
          "execution_count": 69
        }
      ]
    },
    {
      "cell_type": "code",
      "metadata": {
        "id": "9fNPDQTRWIyN",
        "colab_type": "code",
        "colab": {
          "base_uri": "https://localhost:8080/",
          "height": 502
        },
        "outputId": "42fbf9ae-4c1a-4c65-d0c0-18661fff5a43"
      },
      "source": [
        "fig, ax = plt.subplots(1, figsize= (8, 8))\n",
        "plt.scatter(x = sklearn_embedded[:,0], y=sklearn_embedded[:,1], color= color_intermediates, cmap='rainbow')\n",
        "plt.setp(ax, xticks= [], yticks= [])\n",
        "plt.title(\"Feature Visualization for Conv layer 1\")"
      ],
      "execution_count": 70,
      "outputs": [
        {
          "output_type": "execute_result",
          "data": {
            "text/plain": [
              "Text(0.5, 1.0, 'Feature Visualization for Conv layer 1')"
            ]
          },
          "metadata": {
            "tags": []
          },
          "execution_count": 70
        },
        {
          "output_type": "display_data",
          "data": {
            "image/png": "[encoded data removed]",
            "text/plain": [
              "<Figure size 576x576 with 1 Axes>"
            ]
          },
          "metadata": {
            "tags": []
          }
        }
      ]
    },
    {
      "cell_type": "markdown",
      "metadata": {
        "id": "h2rFaCE9XOPZ",
        "colab_type": "text"
      },
      "source": [
        "**RawSignal**"
      ]
    },
    {
      "cell_type": "code",
      "metadata": {
        "id": "CxOqxAfXWOwJ",
        "colab_type": "code",
        "colab": {}
      },
      "source": [
        ""
      ],
      "execution_count": 0,
      "outputs": []
    }
  ]
}